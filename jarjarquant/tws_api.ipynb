{
 "cells": [
  {
   "cell_type": "code",
   "execution_count": 2,
   "metadata": {},
   "outputs": [],
   "source": [
    "from ib_async import *\n",
    "util.startLoop()"
   ]
  },
  {
   "cell_type": "code",
   "execution_count": 3,
   "metadata": {},
   "outputs": [
    {
     "data": {
      "text/plain": [
       "<IB connected to 127.0.0.1:7496 clientId=10>"
      ]
     },
     "execution_count": 3,
     "metadata": {},
     "output_type": "execute_result"
    }
   ],
   "source": [
    "ib = IB()\n",
    "ib.connect('127.0.0.1', 7496, clientId=10)"
   ]
  },
  {
   "cell_type": "code",
   "execution_count": 4,
   "metadata": {},
   "outputs": [
    {
     "data": {
      "text/plain": [
       "[]"
      ]
     },
     "execution_count": 4,
     "metadata": {},
     "output_type": "execute_result"
    }
   ],
   "source": [
    "ib.positions()"
   ]
  },
  {
   "cell_type": "code",
   "execution_count": 5,
   "metadata": {},
   "outputs": [
    {
     "data": {
      "text/plain": [
       "[AccountValue(account='U12104351', tag='NetLiquidationByCurrency', value='0.00', currency='BASE', modelCode=''),\n",
       " AccountValue(account='U14139233', tag='NetLiquidationByCurrency', value='5.87', currency='BASE', modelCode='')]"
      ]
     },
     "execution_count": 5,
     "metadata": {},
     "output_type": "execute_result"
    }
   ],
   "source": [
    "[v for v in ib.accountValues() if v.tag == 'NetLiquidationByCurrency' and v.currency == 'BASE']"
   ]
  },
  {
   "cell_type": "code",
   "execution_count": 6,
   "metadata": {},
   "outputs": [
    {
     "data": {
      "text/plain": [
       "[ContractDetails(contract=Contract(secType='OPT', conId=701331555, symbol='SPY', lastTradeDateOrContractMonth='20250131', strike=600.0, right='C', multiplier='100', exchange='SMART', currency='USD', localSymbol='SPY   250131C00600000', tradingClass='SPY'), marketName='SPY', minTick=0.01, orderTypes='ACTIVETIM,AD,ADJUST,ALERT,ALGO,ALLOC,AON,AVGCOST,BASKET,COND,CONDORDER,DAY,DEACT,DEACTDIS,DEACTEOD,DIS,FOK,GAT,GTC,GTD,GTT,HID,ICE,IOC,LIT,LMT,MIT,MKT,MTL,NGCOMB,NONALGO,OCA,OPENCLOSE,PAON,PEGMIDVOL,PEGMKTVOL,PEGPRMVOL,PEGSRFVOL,POSTONLY,PRICECHK,REL,RELPCTOFS,RELSTK,SCALE,SCALERST,SIZECHK,SMARTSTG,SNAPMID,SNAPMKT,SNAPREL,STP,STPLMT,TRAIL,TRAILLIT,TRAILLMT,TRAILMIT,VOLAT,WHATIF', validExchanges='SMART,AMEX,CBOE,PHLX,PSE,ISE,BOX,BATS,NASDAQOM,CBOE2,NASDAQBX,MIAX,GEMINI,EDGX,MERCURY,PEARL,EMERALD,MEMX,IBUSOPT,SAPPHIRE', priceMagnifier=1, underConId=756733, longName='SPDR S&P 500 ETF TRUST', contractMonth='202501', industry='', category='', subcategory='', timeZoneId='US/Eastern', tradingHours='20250127:0930-20250127:1615;20250128:0930-20250128:1615;20250129:0930-20250129:1615;20250130:0930-20250130:1615;20250131:0930-20250131:1615', liquidHours='20250127:0930-20250127:1615;20250128:0930-20250128:1615;20250129:0930-20250129:1615;20250130:0930-20250130:1615;20250131:0930-20250131:1615', evRule='', evMultiplier=0, mdSizeMultiplier=1, aggGroup=2, underSymbol='SPY', underSecType='STK', marketRuleIds='32,32,32,32,32,32,32,32,32,32,32,32,32,32,32,32,32,32,32,32', secIdList=[], realExpirationDate='20250131', lastTradeTime='16:15:00', stockType='', minSize=1.0, sizeIncrement=1.0, suggestedSizeIncrement=1.0, cusip='', ratings='', descAppend='', bondType='', couponType='', callable=False, putable=False, coupon=0, convertible=False, maturity='', issueDate='', nextOptionDate='', nextOptionType='', nextOptionPartial=False, notes='')]"
      ]
     },
     "execution_count": 6,
     "metadata": {},
     "output_type": "execute_result"
    }
   ],
   "source": [
    "contract = Option('SPY', '20250131', 600, 'C', 'SMART')\n",
    "ib.reqContractDetails(contract)"
   ]
  },
  {
   "cell_type": "code",
   "execution_count": 21,
   "metadata": {},
   "outputs": [
    {
     "name": "stderr",
     "output_type": "stream",
     "text": [
      "Error 321, reqId 10: Error validating request.-'bI' : cause - The symbol or the local-symbol or the security id must be entered, contract: Stock(exchange='SMART', currency='USD')\n",
      "Peer closed connection.\n"
     ]
    }
   ],
   "source": [
    "contract = Stock('', 'SMART', 'USD')\n",
    "contract_details = ib.reqContractDetails(contract)\n",
    "        \n",
    "# Extract tickers from the returned contract details\n",
    "tickers = list(set([details.contract.symbol for details in contract_details]))"
   ]
  },
  {
   "cell_type": "code",
   "execution_count": 20,
   "metadata": {},
   "outputs": [
    {
     "data": {
      "text/plain": [
       "{'secType': 'STK',\n",
       " 'conId': 756733,\n",
       " 'symbol': 'SPY',\n",
       " 'lastTradeDateOrContractMonth': '',\n",
       " 'strike': 0.0,\n",
       " 'right': '',\n",
       " 'multiplier': '',\n",
       " 'exchange': 'SMART',\n",
       " 'primaryExchange': 'ARCA',\n",
       " 'currency': 'USD',\n",
       " 'localSymbol': 'SPY',\n",
       " 'tradingClass': 'SPY',\n",
       " 'includeExpired': False,\n",
       " 'secIdType': '',\n",
       " 'secId': '',\n",
       " 'description': '',\n",
       " 'issuerId': '',\n",
       " 'comboLegsDescrip': '',\n",
       " 'comboLegs': [],\n",
       " 'deltaNeutralContract': None}"
      ]
     },
     "execution_count": 20,
     "metadata": {},
     "output_type": "execute_result"
    }
   ],
   "source": [
    "details[0].contract.dict()"
   ]
  },
  {
   "cell_type": "code",
   "execution_count": 23,
   "metadata": {},
   "outputs": [
    {
     "name": "stdout",
     "output_type": "stream",
     "text": [
      "{'currency': 'USD', 'symbol': '^GSPC', 'exchangeName': 'SNP', 'fullExchangeName': 'SNP', 'instrumentType': 'INDEX', 'firstTradeDate': -1325583000, 'regularMarketTime': 1738014503, 'hasPrePostMarketData': False, 'gmtoffset': -18000, 'timezone': 'EST', 'exchangeTimezoneName': 'America/New_York', 'regularMarketPrice': 6012.28, 'fiftyTwoWeekHigh': 6128.18, 'fiftyTwoWeekLow': 4845.15, 'regularMarketDayHigh': 6017.17, 'regularMarketDayLow': 5962.92, 'regularMarketVolume': 4076897000, 'longName': 'S&P 500', 'shortName': 'S&P 500', 'chartPreviousClose': 5996.66, 'previousClose': 6101.24, 'scale': 3, 'priceHint': 2, 'currentTradingPeriod': {'pre': {'timezone': 'EST', 'start': 1737968400, 'end': 1737988200, 'gmtoffset': -18000}, 'regular': {'timezone': 'EST', 'start': 1737988200, 'end': 1738011600, 'gmtoffset': -18000}, 'post': {'timezone': 'EST', 'start': 1738011600, 'end': 1738026000, 'gmtoffset': -18000}}, 'tradingPeriods':                                           pre_start                   pre_end  \\\n",
      "Date                                                                            \n",
      "2025-01-21 00:00:00-05:00 2025-01-21 04:00:00-05:00 2025-01-21 09:30:00-05:00   \n",
      "2025-01-22 00:00:00-05:00 2025-01-22 04:00:00-05:00 2025-01-22 09:30:00-05:00   \n",
      "2025-01-23 00:00:00-05:00 2025-01-23 04:00:00-05:00 2025-01-23 09:30:00-05:00   \n",
      "2025-01-24 00:00:00-05:00 2025-01-24 04:00:00-05:00 2025-01-24 09:30:00-05:00   \n",
      "2025-01-27 00:00:00-05:00 2025-01-27 04:00:00-05:00 2025-01-27 09:30:00-05:00   \n",
      "\n",
      "                                              start                       end  \\\n",
      "Date                                                                            \n",
      "2025-01-21 00:00:00-05:00 2025-01-21 09:30:00-05:00 2025-01-21 16:00:00-05:00   \n",
      "2025-01-22 00:00:00-05:00 2025-01-22 09:30:00-05:00 2025-01-22 16:00:00-05:00   \n",
      "2025-01-23 00:00:00-05:00 2025-01-23 09:30:00-05:00 2025-01-23 16:00:00-05:00   \n",
      "2025-01-24 00:00:00-05:00 2025-01-24 09:30:00-05:00 2025-01-24 16:00:00-05:00   \n",
      "2025-01-27 00:00:00-05:00 2025-01-27 09:30:00-05:00 2025-01-27 16:00:00-05:00   \n",
      "\n",
      "                                         post_start                  post_end  \n",
      "Date                                                                           \n",
      "2025-01-21 00:00:00-05:00 2025-01-21 16:00:00-05:00 2025-01-21 20:00:00-05:00  \n",
      "2025-01-22 00:00:00-05:00 2025-01-22 16:00:00-05:00 2025-01-22 20:00:00-05:00  \n",
      "2025-01-23 00:00:00-05:00 2025-01-23 16:00:00-05:00 2025-01-23 20:00:00-05:00  \n",
      "2025-01-24 00:00:00-05:00 2025-01-24 16:00:00-05:00 2025-01-24 20:00:00-05:00  \n",
      "2025-01-27 00:00:00-05:00 2025-01-27 16:00:00-05:00 2025-01-27 20:00:00-05:00  , 'dataGranularity': '1h', 'range': '5d', 'validRanges': ['1d', '5d', '1mo', '3mo', '6mo', '1y', '2y', '5y', '10y', 'ytd', 'max']}\n",
      "[]\n"
     ]
    }
   ],
   "source": [
    "import yfinance as yf\n",
    "\n",
    "def fetch_us_tickers(limit=1000):\n",
    "    # Example: Use S&P 500 or NASDAQ-100 as a base\n",
    "    index = yf.Ticker(\"^GSPC\")  # S&P 500 Index\n",
    "    print(index.history_metadata)\n",
    "    components = index.history_metadata.get('components', [])\n",
    "    \n",
    "    # Sample tickers from the index (limit to a subset if needed)\n",
    "    tickers = [ticker for ticker in components if ticker]\n",
    "    return tickers[:limit]\n",
    "\n",
    "# Example usage\n",
    "us_tickers = fetch_us_tickers()\n",
    "print(us_tickers)"
   ]
  },
  {
   "cell_type": "code",
   "execution_count": 7,
   "metadata": {},
   "outputs": [],
   "source": [
    "import pandas as pd\n",
    "associated_returns = pd.Series([0.01, 0.02, -0.01, 0.03, -0.02])\n",
    "return_period = 2\n",
    "import numpy as np"
   ]
  },
  {
   "cell_type": "code",
   "execution_count": 8,
   "metadata": {},
   "outputs": [],
   "source": [
    "associated_returns = associated_returns.rolling(window=return_period, min_periods=1).apply(lambda x: np.prod(1 + x) - 1, raw=True).shift(-return_period + 1)"
   ]
  },
  {
   "cell_type": "code",
   "execution_count": 9,
   "metadata": {},
   "outputs": [
    {
     "data": {
      "text/plain": [
       "0    0.0302\n",
       "1    0.0098\n",
       "2    0.0197\n",
       "3    0.0094\n",
       "4       NaN\n",
       "dtype: float64"
      ]
     },
     "execution_count": 9,
     "metadata": {},
     "output_type": "execute_result"
    }
   ],
   "source": [
    "associated_returns"
   ]
  }
 ],
 "metadata": {
  "kernelspec": {
   "display_name": "venv",
   "language": "python",
   "name": "python3"
  },
  "language_info": {
   "codemirror_mode": {
    "name": "ipython",
    "version": 3
   },
   "file_extension": ".py",
   "mimetype": "text/x-python",
   "name": "python",
   "nbconvert_exporter": "python",
   "pygments_lexer": "ipython3",
   "version": "3.12.6"
  }
 },
 "nbformat": 4,
 "nbformat_minor": 2
}
