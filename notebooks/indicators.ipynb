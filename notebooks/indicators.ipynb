{
 "cells": [
  {
   "cell_type": "markdown",
   "id": "224cbcc0",
   "metadata": {},
   "source": [
    "## Indicators in jarjarquant\n",
    "\n",
    "This notebook goes over how indicators are implemented in jarjarquant, how they can be used, and the common indicator workflows\n",
    "\n",
    "---"
   ]
  },
  {
   "cell_type": "code",
   "execution_count": 1,
   "id": "e62353a1",
   "metadata": {},
   "outputs": [],
   "source": [
    "# Always start with importing the Jarjarquant class and initializing an instance\n",
    "from jarjarquant import Jarjarquant\n",
    "jjq = Jarjarquant()"
   ]
  },
  {
   "cell_type": "markdown",
   "id": "8c10b858",
   "metadata": {},
   "source": [
    "---\n",
    "The `list_indicator()` method provides an easy way to look at available indicators"
   ]
  },
  {
   "cell_type": "code",
   "execution_count": 2,
   "id": "d299dc93",
   "metadata": {},
   "outputs": [
    {
     "data": {
      "text/plain": [
       "[<IndicatorType.ADX: 'adx'>,\n",
       " <IndicatorType.ANCHORED_VWAP: 'anchored_vwap'>,\n",
       " <IndicatorType.AROON: 'aroon'>,\n",
       " <IndicatorType.CHAIKIN_MONEY_FLOW: 'chaikin_money_flow'>,\n",
       " <IndicatorType.CMMA: 'cmma'>,\n",
       " <IndicatorType.RSI: 'rsi'>,\n",
       " <IndicatorType.DETRENDED_RSI: 'detrended_rsi'>,\n",
       " <IndicatorType.MACD: 'macd'>,\n",
       " <IndicatorType.MOVING_AVERAGE_DIFFERENCE: 'moving_average_difference'>,\n",
       " <IndicatorType.PRICE_CHANGE_OSCILLATOR: 'price_change_oscillator'>,\n",
       " <IndicatorType.PRICE_INTENSITY: 'price_intensity'>,\n",
       " <IndicatorType.REGRESSION_TREND: 'regression_trend'>,\n",
       " <IndicatorType.REGRESSION_TREND_DEVIATION: 'regression_trend_deviation'>,\n",
       " <IndicatorType.STOCHASTIC: 'stochastic'>,\n",
       " <IndicatorType.STOCHASTIC_RSI: 'stochastic_rsi'>]"
      ]
     },
     "execution_count": 2,
     "metadata": {},
     "output_type": "execute_result"
    }
   ],
   "source": [
    "jjq.list_indicators()"
   ]
  },
  {
   "cell_type": "markdown",
   "id": "fd0174f6",
   "metadata": {},
   "source": [
    "---\n",
    "In jarjarquant, each indicator is registered as an `IndicatorType`, which allows for type hints in the editor for a better developer experience. IndicatorType objects can also be used to get details about an indicator using utility method: `get_indicator_parameters()` "
   ]
  },
  {
   "cell_type": "code",
   "execution_count": null,
   "id": "18f9c308",
   "metadata": {},
   "outputs": [
    {
     "data": {
      "text/plain": [
       "{'ohlcv_df': {'type': \"<class 'pandas.core.frame.DataFrame'>\",\n",
       "  'required': True,\n",
       "  'default': None},\n",
       " 'threshold_value': {'type': \"<class 'float'>\",\n",
       "  'required': False,\n",
       "  'default': 0.02},\n",
       " 'atr_period': {'type': \"<class 'int'>\", 'required': False, 'default': 14},\n",
       " 'price_formula': {'type': \"<class 'str'>\",\n",
       "  'required': False,\n",
       "  'default': 'ohlc4'},\n",
       " 'transform': {'type': 'Any', 'required': False, 'default': None}}"
      ]
     },
     "execution_count": 3,
     "metadata": {},
     "output_type": "execute_result"
    }
   ],
   "source": [
    "from jarjarquant.indicators import IndicatorType, get_indicator_parameters\n",
    "get_indicator_parameters(IndicatorType.ANCHORED_VWAP)"
   ]
  },
  {
   "cell_type": "markdown",
   "id": "76c991ab",
   "metadata": {},
   "source": [
    "---\n",
    "### Indicator Design Evaluation Workflow\n",
    "\n",
    "A common workflow in early stages of quantitative system development is to evaluate an indicator's design - as opposed to it's performance. A well designed indicator has good statistical properties (stationarity, normality, high entropy) across assets and regimes, which makes it suitable for machine learning algorithms and even rule based systems.\n",
    "\n",
    "To evaluate an indicator across multiple samples use the `parallel_indicator_distribution_study()` method from `jjq.feature_evaluator`. The workflow looks slightly different based on the data source, but can broadly be broken down into 3 categories based on the type of data source: 1. External API, 2. Custom (Local) Data and 3. Synthetic Data "
   ]
  },
  {
   "cell_type": "markdown",
   "id": "5f0ae218",
   "metadata": {},
   "source": [
    "#### 1. External API"
   ]
  },
  {
   "cell_type": "code",
   "execution_count": null,
   "id": "15353672",
   "metadata": {},
   "outputs": [],
   "source": []
  },
  {
   "cell_type": "markdown",
   "id": "62b29b21",
   "metadata": {},
   "source": [
    "#### 2. Custom (local) data"
   ]
  },
  {
   "cell_type": "code",
   "execution_count": null,
   "id": "539a5ae6",
   "metadata": {},
   "outputs": [],
   "source": []
  }
 ],
 "metadata": {
  "kernelspec": {
   "display_name": "jarjarquant (3.12.6)",
   "language": "python",
   "name": "python3"
  },
  "language_info": {
   "codemirror_mode": {
    "name": "ipython",
    "version": 3
   },
   "file_extension": ".py",
   "mimetype": "text/x-python",
   "name": "python",
   "nbconvert_exporter": "python",
   "pygments_lexer": "ipython3",
   "version": "3.12.6"
  }
 },
 "nbformat": 4,
 "nbformat_minor": 5
}
