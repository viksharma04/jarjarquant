{
 "cells": [
  {
   "cell_type": "markdown",
   "metadata": {},
   "source": [
    "This notebooks allows for the creation of sample ticker sets with category labels such as asset class, market capp, sector, etc."
   ]
  },
  {
   "cell_type": "markdown",
   "metadata": {},
   "source": [
    "Method 1: Trading View Screens Export"
   ]
  },
  {
   "cell_type": "code",
   "execution_count": 1,
   "metadata": {},
   "outputs": [],
   "source": [
    "import os\n",
    "import pandas as pd\n",
    "import random"
   ]
  },
  {
   "cell_type": "code",
   "execution_count": 2,
   "metadata": {},
   "outputs": [],
   "source": [
    "# For US Stock Data\n",
    "screen_date = \"02_24_25\"\n",
    "market_caps = [\"MICROCAP\", \"SMALLCAP\", \"MIDCAP\", \"LARGECAP\", \"MEGACAP\"]\n",
    "\n",
    "# Read all files in TradingView Screens folder with specified filters\n",
    "# Define the folder path\n",
    "folder_path = \"TV_Screens\"\n",
    "\n",
    "# Create an empty list to store dataframes\n",
    "dfs = []\n",
    "\n",
    "# Loop through each market cap and read the corresponding files\n",
    "for market_cap in market_caps:\n",
    "    file_pattern = f\"TV_SCREEN_US_STOCK_{market_cap}_{screen_date}.csv\"\n",
    "    file_path = os.path.join(os.getcwd(), folder_path, file_pattern)\n",
    "    df = pd.read_csv(file_path)\n",
    "    df['Market cap tag'] = market_cap\n",
    "    dfs.append(df)\n",
    "\n",
    "# Combine all dataframes into one\n",
    "combined_df = pd.concat(dfs, ignore_index=True)"
   ]
  },
  {
   "cell_type": "code",
   "execution_count": null,
   "metadata": {},
   "outputs": [],
   "source": [
    "sample_ticker_list = []\n",
    "# For each market cap\n",
    "for market_cap in market_caps:\n",
    "    # Filter the data\n",
    "    temp_list = []\n",
    "    filtered_df = combined_df[combi ned_df['Market cap tag'] == market_cap]\n",
    "    # For each sector in the filtered data\n",
    "    for sector in filtered_df['Sector'].unique():\n",
    "        # Filter the data\n",
    "        sector_df = filtered_df[filtered_df['Sector'] == sector]\n",
    "        # Sample upto 2 tickers from the filtered data or all if less than 2\n",
    "        for ticker in sector_df.sample(n=min(2, len(sector_df)))['Symbol']:\n",
    "            temp_list.append({\"ticker\": ticker, \"sector\": sector, \"market_cap\": market_cap})\n",
    "\n",
    "    sample_ticker_list.append(random.sample(temp_list, min(2, len(temp_list))))\n",
    "\n",
    "flattened_ticker_list = [ticker for sublist in sample_ticker_list for ticker in sublist]"
   ]
  },
  {
   "cell_type": "code",
   "execution_count": 4,
   "metadata": {},
   "outputs": [
    {
     "data": {
      "text/plain": [
       "10"
      ]
     },
     "execution_count": 4,
     "metadata": {},
     "output_type": "execute_result"
    }
   ],
   "source": [
    "len(flattened_ticker_list)"
   ]
  },
  {
   "cell_type": "code",
   "execution_count": 5,
   "metadata": {},
   "outputs": [],
   "source": [
    "import nest_asyncio\n",
    "nest_asyncio.apply()\n",
    "\n",
    "import os\n",
    "import sys\n",
    "\n",
    "sys.path.append(os.path.join(os.getcwd(), \"../..\"))\n",
    "\n",
    "from jarjarquant import Jarjarquant\n",
    "jjq = Jarjarquant()"
   ]
  },
  {
   "cell_type": "code",
   "execution_count": 6,
   "metadata": {},
   "outputs": [],
   "source": [
    "# Use the get_tws_ticker method from data gatherer\n",
    "# Empty end date implies fetching data upto the last available date\n",
    "# df = jjq.data_gatherer.async_get_tws_ticker(ticker=ticker, exchange='SMART', currency='USD', end_date='', duration='1 D', bar_size='1 min', what_to_show='TRADES')\n",
    "bar_size = '1 day'"
   ]
  },
  {
   "cell_type": "code",
   "execution_count": 7,
   "metadata": {},
   "outputs": [
    {
     "name": "stdout",
     "output_type": "stream",
     "text": [
      "WARNING: JELD does not have enough data to sample 10 years back. Sampling all available data\n",
      "WARNING: UI does not have enough data to sample 10 years back. Sampling all available data\n",
      "WARNING: ONEW does not have enough data to sample 10 years back. Sampling all available data\n"
     ]
    }
   ],
   "source": [
    "results = jjq.data_gatherer.get_random_price_samples_tws(years_in_sample=10, tickers=[flattened_ticker_list[i]['ticker'] for i in range(len(flattened_ticker_list))], num_tickers_to_sample=10, verbose=True)"
   ]
  },
  {
   "cell_type": "code",
   "execution_count": 12,
   "metadata": {},
   "outputs": [
    {
     "data": {
      "text/plain": [
       "10"
      ]
     },
     "execution_count": 12,
     "metadata": {},
     "output_type": "execute_result"
    }
   ],
   "source": [
    "len(results)"
   ]
  },
  {
   "cell_type": "code",
   "execution_count": 13,
   "metadata": {},
   "outputs": [],
   "source": [
    "flat_results = {key: value for result in results for key, value in result.items()}"
   ]
  },
  {
   "cell_type": "code",
   "execution_count": 10,
   "metadata": {},
   "outputs": [],
   "source": [
    "ticker_data = result = {item['ticker']: {'market_cap': item['market_cap'], 'sector': item['sector']} for item in flattened_ticker_list}"
   ]
  },
  {
   "cell_type": "code",
   "execution_count": null,
   "metadata": {},
   "outputs": [],
   "source": [
    "from datetime import datetime\n",
    "\n",
    "today_date = datetime.today().strftime('%Y-%m-%d')\n",
    "for key, value in flat_results.items():\n",
    "    value.to_csv(f\"data/sample_daily_10_all/{ticker_data[key]['market_cap']}_{ticker_data[key]['sector']}_{bar_size}_{today_date}.csv\")"
   ]
  }
 ],
 "metadata": {
  "kernelspec": {
   "display_name": "venv",
   "language": "python",
   "name": "python3"
  },
  "language_info": {
   "codemirror_mode": {
    "name": "ipython",
    "version": 3
   },
   "file_extension": ".py",
   "mimetype": "text/x-python",
   "name": "python",
   "nbconvert_exporter": "python",
   "pygments_lexer": "ipython3",
   "version": "3.12.6"
  }
 },
 "nbformat": 4,
 "nbformat_minor": 2
}
