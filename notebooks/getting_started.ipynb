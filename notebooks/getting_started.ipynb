{
 "cells": [
  {
   "cell_type": "markdown",
   "id": "339c5b15",
   "metadata": {},
   "source": [
    "## Getting Started with Jarjarquant\n",
    "---\n",
    "\n",
    "This notebook demonstrates how to use the Jarjarquant library for quantitative trading analysis. Jarjarquant provides tools for accessing market data, calculating technical indicators, and analyzing trading strategies."
   ]
  },
  {
   "cell_type": "markdown",
   "id": "9cef0f69",
   "metadata": {},
   "source": [
    "### Setup\n",
    "First, we'll import the Jarjarquant library and set up our environment. We're using `nest_asyncio` to allow running async code in the notebook."
   ]
  },
  {
   "cell_type": "code",
   "execution_count": null,
   "id": "0fc39518",
   "metadata": {},
   "outputs": [],
   "source": [
    "# Import Jarjarquant and nest_asyncio for running async code in notebook\n",
    "from jarjarquant import Jarjarquant\n",
    "import nest_asyncio\n",
    "nest_asyncio.apply()  # Apply nest_asyncio to allow running async code in Jupyter\n",
    "\n",
    "# Initialize Jarjarquant with TWS (Interactive Brokers Trader Workstation) as data source\n",
    "jjq = Jarjarquant(data_source='tws')"
   ]
  },
  {
   "cell_type": "markdown",
   "id": "edbacbf7",
   "metadata": {},
   "source": [
    "### Examining the Data\n",
    "Let's look at the initial data frame to see what market data we have available."
   ]
  },
  {
   "cell_type": "code",
   "execution_count": null,
   "id": "a2e1f0a2",
   "metadata": {},
   "outputs": [
    {
     "data": {
      "text/html": [
       "<div>\n",
       "<style scoped>\n",
       "    .dataframe tbody tr th:only-of-type {\n",
       "        vertical-align: middle;\n",
       "    }\n",
       "\n",
       "    .dataframe tbody tr th {\n",
       "        vertical-align: top;\n",
       "    }\n",
       "\n",
       "    .dataframe thead th {\n",
       "        text-align: right;\n",
       "    }\n",
       "</style>\n",
       "<table border=\"1\" class=\"dataframe\">\n",
       "  <thead>\n",
       "    <tr style=\"text-align: right;\">\n",
       "      <th></th>\n",
       "      <th>date</th>\n",
       "      <th>Open</th>\n",
       "      <th>High</th>\n",
       "      <th>Low</th>\n",
       "      <th>Close</th>\n",
       "      <th>Volume</th>\n",
       "      <th>average</th>\n",
       "      <th>barCount</th>\n",
       "    </tr>\n",
       "  </thead>\n",
       "  <tbody>\n",
       "    <tr>\n",
       "      <th>0</th>\n",
       "      <td>2007-05-15</td>\n",
       "      <td>3.07</td>\n",
       "      <td>3.10</td>\n",
       "      <td>3.03</td>\n",
       "      <td>3.03</td>\n",
       "      <td>165084000.0</td>\n",
       "      <td>3.06090</td>\n",
       "      <td>37328</td>\n",
       "    </tr>\n",
       "    <tr>\n",
       "      <th>1</th>\n",
       "      <td>2007-05-16</td>\n",
       "      <td>3.05</td>\n",
       "      <td>3.17</td>\n",
       "      <td>3.01</td>\n",
       "      <td>3.16</td>\n",
       "      <td>265328000.0</td>\n",
       "      <td>3.08140</td>\n",
       "      <td>53661</td>\n",
       "    </tr>\n",
       "    <tr>\n",
       "      <th>2</th>\n",
       "      <td>2007-05-17</td>\n",
       "      <td>3.14</td>\n",
       "      <td>3.18</td>\n",
       "      <td>3.10</td>\n",
       "      <td>3.11</td>\n",
       "      <td>228002000.0</td>\n",
       "      <td>3.13155</td>\n",
       "      <td>51722</td>\n",
       "    </tr>\n",
       "    <tr>\n",
       "      <th>3</th>\n",
       "      <td>2007-05-18</td>\n",
       "      <td>3.12</td>\n",
       "      <td>3.17</td>\n",
       "      <td>3.11</td>\n",
       "      <td>3.17</td>\n",
       "      <td>180934000.0</td>\n",
       "      <td>3.13410</td>\n",
       "      <td>42113</td>\n",
       "    </tr>\n",
       "    <tr>\n",
       "      <th>4</th>\n",
       "      <td>2007-05-21</td>\n",
       "      <td>3.18</td>\n",
       "      <td>3.43</td>\n",
       "      <td>3.17</td>\n",
       "      <td>3.42</td>\n",
       "      <td>704580000.0</td>\n",
       "      <td>3.35015</td>\n",
       "      <td>144002</td>\n",
       "    </tr>\n",
       "  </tbody>\n",
       "</table>\n",
       "</div>"
      ],
      "text/plain": [
       "         date  Open  High   Low  Close       Volume  average  barCount\n",
       "0  2007-05-15  3.07  3.10  3.03   3.03  165084000.0  3.06090     37328\n",
       "1  2007-05-16  3.05  3.17  3.01   3.16  265328000.0  3.08140     53661\n",
       "2  2007-05-17  3.14  3.18  3.10   3.11  228002000.0  3.13155     51722\n",
       "3  2007-05-18  3.12  3.17  3.11   3.17  180934000.0  3.13410     42113\n",
       "4  2007-05-21  3.18  3.43  3.17   3.42  704580000.0  3.35015    144002"
      ]
     },
     "execution_count": 11,
     "metadata": {},
     "output_type": "execute_result"
    }
   ],
   "source": [
    "# Display the first few rows of the dataframe to see available market data\n",
    "jjq.df.head()"
   ]
  },
  {
   "cell_type": "markdown",
   "id": "c5c5b6ae",
   "metadata": {},
   "source": [
    "### Available Indicators\n",
    "Jarjarquant provides various technical indicators. Let's explore the RSI (Relative Strength Index) indicator options."
   ]
  },
  {
   "cell_type": "code",
   "execution_count": null,
   "id": "808e5ab3",
   "metadata": {},
   "outputs": [
    {
     "data": {
      "text/plain": [
       "[{'name': 'period', 'type': 'int', 'default': 14},\n",
       " {'name': 'transform', 'type': '_empty', 'default': None}]"
      ]
     },
     "execution_count": 12,
     "metadata": {},
     "output_type": "execute_result"
    }
   ],
   "source": [
    "# List available indicators and show detailed information about RSI\n",
    "import json\n",
    "json.loads(jjq.list_indicators())['RSI']  # Extract RSI information from available indicators"
   ]
  },
  {
   "cell_type": "code",
   "execution_count": null,
   "id": "2c63438d",
   "metadata": {},
   "outputs": [],
   "source": [
    "# Add RSI indicator with a 9-period lookback\n",
    "jjq.add_indicator(Jarjarquant.rsi, 'RSI', period=9)"
   ]
  },
  {
   "cell_type": "code",
   "execution_count": null,
   "id": "79682f60",
   "metadata": {},
   "outputs": [
    {
     "data": {
      "text/html": [
       "<div>\n",
       "<style scoped>\n",
       "    .dataframe tbody tr th:only-of-type {\n",
       "        vertical-align: middle;\n",
       "    }\n",
       "\n",
       "    .dataframe tbody tr th {\n",
       "        vertical-align: top;\n",
       "    }\n",
       "\n",
       "    .dataframe thead th {\n",
       "        text-align: right;\n",
       "    }\n",
       "</style>\n",
       "<table border=\"1\" class=\"dataframe\">\n",
       "  <thead>\n",
       "    <tr style=\"text-align: right;\">\n",
       "      <th></th>\n",
       "      <th>date</th>\n",
       "      <th>Open</th>\n",
       "      <th>High</th>\n",
       "      <th>Low</th>\n",
       "      <th>Close</th>\n",
       "      <th>Volume</th>\n",
       "      <th>average</th>\n",
       "      <th>barCount</th>\n",
       "      <th>RSI</th>\n",
       "    </tr>\n",
       "  </thead>\n",
       "  <tbody>\n",
       "    <tr>\n",
       "      <th>0</th>\n",
       "      <td>2007-05-15</td>\n",
       "      <td>3.07</td>\n",
       "      <td>3.10</td>\n",
       "      <td>3.03</td>\n",
       "      <td>3.03</td>\n",
       "      <td>165084000.0</td>\n",
       "      <td>3.06090</td>\n",
       "      <td>37328</td>\n",
       "      <td>0.0</td>\n",
       "    </tr>\n",
       "    <tr>\n",
       "      <th>1</th>\n",
       "      <td>2007-05-16</td>\n",
       "      <td>3.05</td>\n",
       "      <td>3.17</td>\n",
       "      <td>3.01</td>\n",
       "      <td>3.16</td>\n",
       "      <td>265328000.0</td>\n",
       "      <td>3.08140</td>\n",
       "      <td>53661</td>\n",
       "      <td>0.0</td>\n",
       "    </tr>\n",
       "    <tr>\n",
       "      <th>2</th>\n",
       "      <td>2007-05-17</td>\n",
       "      <td>3.14</td>\n",
       "      <td>3.18</td>\n",
       "      <td>3.10</td>\n",
       "      <td>3.11</td>\n",
       "      <td>228002000.0</td>\n",
       "      <td>3.13155</td>\n",
       "      <td>51722</td>\n",
       "      <td>0.0</td>\n",
       "    </tr>\n",
       "    <tr>\n",
       "      <th>3</th>\n",
       "      <td>2007-05-18</td>\n",
       "      <td>3.12</td>\n",
       "      <td>3.17</td>\n",
       "      <td>3.11</td>\n",
       "      <td>3.17</td>\n",
       "      <td>180934000.0</td>\n",
       "      <td>3.13410</td>\n",
       "      <td>42113</td>\n",
       "      <td>0.0</td>\n",
       "    </tr>\n",
       "    <tr>\n",
       "      <th>4</th>\n",
       "      <td>2007-05-21</td>\n",
       "      <td>3.18</td>\n",
       "      <td>3.43</td>\n",
       "      <td>3.17</td>\n",
       "      <td>3.42</td>\n",
       "      <td>704580000.0</td>\n",
       "      <td>3.35015</td>\n",
       "      <td>144002</td>\n",
       "      <td>0.0</td>\n",
       "    </tr>\n",
       "  </tbody>\n",
       "</table>\n",
       "</div>"
      ],
      "text/plain": [
       "         date  Open  High   Low  Close       Volume  average  barCount  RSI\n",
       "0  2007-05-15  3.07  3.10  3.03   3.03  165084000.0  3.06090     37328  0.0\n",
       "1  2007-05-16  3.05  3.17  3.01   3.16  265328000.0  3.08140     53661  0.0\n",
       "2  2007-05-17  3.14  3.18  3.10   3.11  228002000.0  3.13155     51722  0.0\n",
       "3  2007-05-18  3.12  3.17  3.11   3.17  180934000.0  3.13410     42113  0.0\n",
       "4  2007-05-21  3.18  3.43  3.17   3.42  704580000.0  3.35015    144002  0.0"
      ]
     },
     "execution_count": 14,
     "metadata": {},
     "output_type": "execute_result"
    }
   ],
   "source": [
    "# Display the updated dataframe with the RSI indicator\n",
    "jjq.df.head()"
   ]
  }
 ],
 "metadata": {
  "kernelspec": {
   "display_name": "jarjarquant",
   "language": "python",
   "name": "python3"
  },
  "language_info": {
   "codemirror_mode": {
    "name": "ipython",
    "version": 3
   },
   "file_extension": ".py",
   "mimetype": "text/x-python",
   "name": "python",
   "nbconvert_exporter": "python",
   "pygments_lexer": "ipython3",
   "version": "3.12.6"
  }
 },
 "nbformat": 4,
 "nbformat_minor": 5
}
