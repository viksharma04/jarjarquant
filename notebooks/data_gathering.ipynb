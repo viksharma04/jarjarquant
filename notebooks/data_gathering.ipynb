{
 "cells": [
  {
   "cell_type": "code",
   "execution_count": null,
   "metadata": {},
   "outputs": [],
   "source": [
    "import sys\n",
    "import os\n",
    "import nest_asyncio\n",
    "nest_asyncio.apply()\n",
    "\n",
    "# Add the parent directory to the system path\n",
    "sys.path.append(os.path.abspath(os.path.join(os.getcwd(), '..')))\n",
    "\n",
    "from jarjarquant import Jarjarquant\n",
    "jjq = Jarjarquant()"
   ]
  },
  {
   "cell_type": "code",
   "execution_count": null,
   "metadata": {},
   "outputs": [],
   "source": [
    "from ib_async import IB, util, Index\n",
    "ib = IB()\n",
    "\n",
    "# Connect to the IB Gateway or TWS\n",
    "await ib.connectAsync('127.0.0.1', 7496, clientId=1)\n",
    "\n",
    "contract = Index('SPX', 'CBOE')\n",
    "\n",
    "# Request historical implied volatility data\n",
    "bars = await ib.reqHistoricalDataAsync(\n",
    "    contract,\n",
    "    endDateTime='',  # current time\n",
    "    durationStr='68 Y',  # Duration of data, e.g., '1 M' for 1 month\n",
    "    barSizeSetting='1 day',  # Bar size, e.g., '1 day'\n",
    "    whatToShow='TRADES',\n",
    "    useRTH=True,\n",
    "    formatDate=1\n",
    ")\n",
    "\n",
    "# Convert bars to a DataFrame and display\n",
    "df = util.df(bars)\n",
    "# Rename 'open', 'high', 'low', 'close' columns to 'Open', 'High', 'Low', 'Close'\n",
    "# df.rename(columns={'open': 'Open', 'high': 'High',\n",
    "#             'low': 'Low', 'close': 'Close', 'volume': 'Volume'}, inplace=True)\n",
    "\n",
    "# Disconnect from IB\n",
    "ib.disconnect()"
   ]
  },
  {
   "cell_type": "code",
   "execution_count": null,
   "metadata": {},
   "outputs": [],
   "source": [
    "df"
   ]
  },
  {
   "cell_type": "code",
   "execution_count": null,
   "metadata": {},
   "outputs": [],
   "source": [
    "# Use the get_tws_ticker method from data gatherer\n",
    "# Empty end date implies fetching data upto the last available date\n",
    "jjq.data_gatherer.get_tws_ticker(ticker='BAC', exchange='SMART', currency='USD', end_date='', duration='1 D', bar_size='1 min', what_to_show='TRADES')"
   ]
  },
  {
   "cell_type": "code",
   "execution_count": null,
   "metadata": {},
   "outputs": [],
   "source": [
    "# Get random price samples\n",
    "# Valid Bar Sizes:\n",
    "# 1 secs 5 secs\t10 secs\t15 secs\t30 secs\n",
    "# 1 min\t2 mins\t3 mins\t5 mins\t10 mins\t15 mins\t20 mins\t30 mins\n",
    "# 1 hour 2 hours 3 hours 4 hours 8 hours\n",
    "# 1 day\n",
    "# 1 week\n",
    "# 1 month\n",
    "data = jjq.data_gatherer.get_random_price_samples_tws(num_tickers_to_sample=1, years_in_sample=1, bar_size='1 day')\n",
    "data[0].head()  # Display the first few rows of the sampled data"
   ]
  },
  {
   "cell_type": "code",
   "execution_count": null,
   "metadata": {},
   "outputs": [],
   "source": [
    "# Override years_in_sample to get samples less than 1 year by specifying a custom duration\n",
    "# Duration formnat:\n",
    "# \"<integer> <duration_unit>\"\n",
    "# Valid durations:\n",
    "# S\tSeconds\n",
    "# D\tDay\n",
    "# W\tWeek\n",
    "# M\tMonth\n",
    "# Y\tYear\n",
    "# Ensure years_in_sample is an integer and greater than the specified duration - not specifying years_in_sample will handle both these risks\n",
    "data = jjq.data_gatherer.get_random_price_samples_tws(num_tickers_to_sample=1, bar_size='5 mins', duration='1 D')\n",
    "data[0].head()  # Display the first few rows of the sampled data"
   ]
  },
  {
   "cell_type": "markdown",
   "metadata": {},
   "source": [
    "#### Using the EODHD API to fetch data"
   ]
  },
  {
   "cell_type": "code",
   "execution_count": null,
   "metadata": {},
   "outputs": [],
   "source": [
    "import polars as pl\n",
    "\n",
    "# Empty DataFrame\n",
    "empty_df = pl.DataFrame()\n",
    "print(empty_df.is_empty())  # True\n",
    "print(empty_df.height == 0)  # True\n",
    "\n",
    "# DataFrame with columns but no rows\n",
    "empty_with_schema = pl.DataFrame({\"a\": [], \"b\": []})\n",
    "print(empty_with_schema.is_empty())  # True\n",
    "\n",
    "# Non-empty DataFrame\n",
    "df = pl.DataFrame({\"a\": [1, 2], \"b\": [3, 4]})\n",
    "print(df.is_empty())  # False"
   ]
  }
 ],
 "metadata": {
  "kernelspec": {
   "display_name": ".venv",
   "language": "python",
   "name": "python3"
  },
  "language_info": {
   "codemirror_mode": {
    "name": "ipython",
    "version": 3
   },
   "file_extension": ".py",
   "mimetype": "text/x-python",
   "name": "python",
   "nbconvert_exporter": "python",
   "pygments_lexer": "ipython3",
   "version": "3.12.6"
  }
 },
 "nbformat": 4,
 "nbformat_minor": 2
}
