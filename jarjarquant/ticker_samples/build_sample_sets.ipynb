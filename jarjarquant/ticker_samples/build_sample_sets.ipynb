{
 "cells": [
  {
   "cell_type": "markdown",
   "metadata": {},
   "source": [
    "This notebooks allows for the creation of sample ticker sets with category labels such as asset class, market cap, sector, etc."
   ]
  },
  {
   "cell_type": "code",
   "execution_count": 3,
   "metadata": {},
   "outputs": [],
   "source": [
    "import os\n",
    "import pandas as pd\n",
    "import random"
   ]
  },
  {
   "cell_type": "markdown",
   "metadata": {},
   "source": [
    "Method 1: Trading View Screens Export"
   ]
  },
  {
   "cell_type": "markdown",
   "metadata": {},
   "source": [
    "Step 1: Define parameters for building the sample ticker set"
   ]
  },
  {
   "cell_type": "code",
   "execution_count": 4,
   "metadata": {},
   "outputs": [],
   "source": [
    "# Screen date for TradingView Screens data\n",
    "screen_date = \"02_24_25\"\n",
    "# What market caps should be included in the sample data\n",
    "# market_caps = [\"MICROCAP\", \"SMALLCAP\", \"MIDCAP\", \"LARGECAP\", \"MEGACAP\"]\n",
    "market_caps = [\"MIDCAP\", \"LARGECAP\", \"MEGACAP\"]\n",
    "\n",
    "# How many samples for each market cap\n",
    "n_samples_by_mktcap = 33"
   ]
  },
  {
   "cell_type": "code",
   "execution_count": 5,
   "metadata": {},
   "outputs": [],
   "source": [
    "# Read all files in TradingView Screens folder with specified filters\n",
    "# Define the folder path\n",
    "folder_path = \"TV_Screens\"\n",
    "\n",
    "# Create an empty list to store dataframes\n",
    "dfs = []\n",
    "\n",
    "# Loop through each market cap and read the corresponding files\n",
    "for market_cap in market_caps:\n",
    "    file_pattern = f\"TV_SCREEN_US_STOCK_{market_cap}_{screen_date}.csv\"\n",
    "    file_path = os.path.join(os.getcwd(), folder_path, file_pattern)\n",
    "    df = pd.read_csv(file_path)\n",
    "    df['Market cap tag'] = market_cap\n",
    "    dfs.append(df)\n",
    "\n",
    "# Combine all dataframes into one\n",
    "combined_df = pd.concat(dfs, ignore_index=True)"
   ]
  },
  {
   "cell_type": "code",
   "execution_count": 6,
   "metadata": {},
   "outputs": [],
   "source": [
    "sample_ticker_list = []\n",
    "# For each market cap\n",
    "for market_cap in market_caps:\n",
    "    # Filter the data\n",
    "    temp_list = []\n",
    "    filtered_df = combined_df[combined_df['Market cap tag'] == market_cap]\n",
    "    # For each sector in the filtered data\n",
    "    for sector in filtered_df['Sector'].unique():\n",
    "        # Filter the data\n",
    "        sector_df = filtered_df[filtered_df['Sector'] == sector]\n",
    "        # Sample upto 2 tickers from the filtered data or all if less than 2\n",
    "        for ticker in sector_df.sample(n=min(2, len(sector_df)))['Symbol']:\n",
    "            temp_list.append({\"ticker\": ticker, \"sector\": sector, \"market_cap\": market_cap})\n",
    "\n",
    "    sample_ticker_list.append(random.sample(temp_list, min(n_samples_by_mktcap, len(temp_list))))\n",
    "\n",
    "flattened_ticker_list = [ticker for sublist in sample_ticker_list for ticker in sublist]"
   ]
  },
  {
   "cell_type": "code",
   "execution_count": 7,
   "metadata": {},
   "outputs": [
    {
     "name": "stdout",
     "output_type": "stream",
     "text": [
      "Number of tickers in sample = 87\n"
     ]
    }
   ],
   "source": [
    "print(f\"Number of tickers in sample = {len(flattened_ticker_list)}\")"
   ]
  },
  {
   "cell_type": "code",
   "execution_count": 8,
   "metadata": {},
   "outputs": [],
   "source": [
    "flattened_ticker_list = flattened_ticker_list*3"
   ]
  },
  {
   "cell_type": "markdown",
   "metadata": {},
   "source": [
    "Step 2: Define the parameters to fetch data for the sample ticker set"
   ]
  },
  {
   "cell_type": "code",
   "execution_count": 9,
   "metadata": {},
   "outputs": [],
   "source": [
    "# Define the bar size for the sample data\n",
    "bar_size = '1 hour'\n",
    "# Define the duration and years_in_sample\n",
    "duration = '1 Y' \n",
    "years_in_sample = 1 # Integer value - lowest value is 1"
   ]
  },
  {
   "cell_type": "code",
   "execution_count": 10,
   "metadata": {},
   "outputs": [
    {
     "name": "stderr",
     "output_type": "stream",
     "text": [
      "Error 10275, reqId -1: Positions info is not available for account(s): U12104351 until the application is finished and approved.\n"
     ]
    }
   ],
   "source": [
    "import nest_asyncio\n",
    "nest_asyncio.apply()\n",
    "\n",
    "import os\n",
    "import sys\n",
    "\n",
    "sys.path.append(os.path.join(os.getcwd(), \"../..\"))\n",
    "\n",
    "from jarjarquant import Jarjarquant\n",
    "jjq = Jarjarquant()"
   ]
  },
  {
   "cell_type": "code",
   "execution_count": null,
   "metadata": {},
   "outputs": [],
   "source": [
    "results = jjq.data_gatherer.get_random_price_samples_tws(years_in_sample=years_in_sample, tickers=[flattened_ticker_list[i]['ticker'] for i in range(len(flattened_ticker_list))], num_tickers_to_sample=len(flattened_ticker_list), bar_size=bar_size, duration=duration, verbose=True)"
   ]
  },
  {
   "cell_type": "code",
   "execution_count": 12,
   "metadata": {},
   "outputs": [],
   "source": [
    "flat_results = {key: value for result in results for key, value in result.items()}\n",
    "ticker_data = {item['ticker']: {'market_cap': item['market_cap'], 'sector': item['sector']} for item in flattened_ticker_list}\n",
    "\n",
    "sampled_ticker_data = {}\n",
    "for k,v in flat_results.items():\n",
    "    sampled_ticker_data[k] = ticker_data[k]"
   ]
  },
  {
   "cell_type": "code",
   "execution_count": null,
   "metadata": {},
   "outputs": [
    {
     "data": {
      "text/plain": [
       "71"
      ]
     },
     "execution_count": 13,
     "metadata": {},
     "output_type": "execute_result"
    }
   ],
   "source": [
    "len(results)"
   ]
  },
  {
   "cell_type": "markdown",
   "metadata": {},
   "source": [
    "Step 3: Name the sample and save sample data and metadata"
   ]
  },
  {
   "cell_type": "code",
   "execution_count": 29,
   "metadata": {},
   "outputs": [],
   "source": [
    "from datetime import datetime\n",
    "today_date = datetime.today().strftime('%Y-%m-%d')\n",
    "timestamp = datetime.now().strftime('%H-%M-%S')\n",
    "\n",
    "# Customize the folder name\n",
    "sample_folder_name = f\"1hour_midcap+_yearly_samples_172\" \n",
    "os.makedirs(f\"data/{sample_folder_name}\", exist_ok=True)"
   ]
  },
  {
   "cell_type": "code",
   "execution_count": 30,
   "metadata": {},
   "outputs": [],
   "source": [
    "keys_so_far = set()\n",
    "suffix = 0\n",
    "for result in results:\n",
    "    for k,v in result.items():\n",
    "        # Check if k is in keys_so_far\n",
    "        if k in keys_so_far:\n",
    "            # Save file with a random suffix\n",
    "            # suffix = random.randint(1, 99)\n",
    "            v.to_csv(f\"data/{sample_folder_name}/{ticker_data[k]['market_cap']}_{ticker_data[k]['sector']}_{bar_size}_{k}_{suffix}.csv\")\n",
    "            suffix += 1\n",
    "        else:\n",
    "            keys_so_far.add(k)\n",
    "            v.to_csv(f\"data/{sample_folder_name}/{ticker_data[k]['market_cap']}_{ticker_data[k]['sector']}_{bar_size}_{k}.csv\")"
   ]
  },
  {
   "cell_type": "code",
   "execution_count": 31,
   "metadata": {},
   "outputs": [],
   "source": [
    "# Pickle the ticker data\n",
    "import pickle\n",
    "with open(f\"data/{sample_folder_name}/ticker_data_{bar_size}_{today_date}.pkl\", \"wb\") as f:\n",
    "    pickle.dump(sampled_ticker_data, f)"
   ]
  }
 ],
 "metadata": {
  "kernelspec": {
   "display_name": "venv",
   "language": "python",
   "name": "python3"
  },
  "language_info": {
   "codemirror_mode": {
    "name": "ipython",
    "version": 3
   },
   "file_extension": ".py",
   "mimetype": "text/x-python",
   "name": "python",
   "nbconvert_exporter": "python",
   "pygments_lexer": "ipython3",
   "version": "3.12.6"
  }
 },
 "nbformat": 4,
 "nbformat_minor": 2
}
