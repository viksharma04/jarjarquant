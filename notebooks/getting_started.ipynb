{
 "cells": [
  {
   "cell_type": "markdown",
   "id": "339c5b15",
   "metadata": {},
   "source": [
    "## Getting Started with Jarjarquant\n",
    "---\n",
    "\n",
    "This notebook demonstrates how to use the Jarjarquant library for quantitative trading analysis. Jarjarquant provides tools for accessing market data, calculating technical indicators, and analyzing trading strategies."
   ]
  },
  {
   "cell_type": "markdown",
   "id": "9cef0f69",
   "metadata": {},
   "source": [
    "### Setup\n",
    "First, we'll import the Jarjarquant library and set up our environment. We're using `nest_asyncio` to allow running async code in the notebook."
   ]
  },
  {
   "cell_type": "code",
   "execution_count": null,
   "id": "0fc39518",
   "metadata": {},
   "outputs": [],
   "source": [
    "# Import Jarjarquant and nest_asyncio for running async code in notebook\n",
    "from jarjarquant import Jarjarquant\n",
    "from jarjarquant.utilities import Duration, BarSize\n",
    "import nest_asyncio\n",
    "import pandas as pd\n",
    "nest_asyncio.apply()  # Apply nest_asyncio to allow running async code in Jupyter\n",
    "\n",
    "# Initialize Jarjarquant with TWS (Interactive Brokers Trader Workstation) as data source\n",
    "jjq = Jarjarquant(data_frame=pd.DataFrame())"
   ]
  },
  {
   "cell_type": "markdown",
   "id": "edbacbf7",
   "metadata": {},
   "source": [
    "### Examining the Data\n",
    "Let's look at the initial data frame to see what market data we have available."
   ]
  },
  {
   "cell_type": "code",
   "execution_count": null,
   "id": "a2e1f0a2",
   "metadata": {},
   "outputs": [],
   "source": [
    "# Display the first few rows of the dataframe to see available market data\n",
    "jjq.df.head()"
   ]
  },
  {
   "cell_type": "markdown",
   "id": "bf58e942",
   "metadata": {},
   "source": [
    "### Fetching Data from TWS"
   ]
  },
  {
   "cell_type": "code",
   "execution_count": null,
   "id": "165b96a6",
   "metadata": {},
   "outputs": [],
   "source": [
    "# Fetching Stock Data\n",
    "jjq.data_gatherer.get_tws_ticker(ticker=\"SPY\", duration=\"1 Y\",  end_date=\"2020-01-01\").head()"
   ]
  },
  {
   "cell_type": "code",
   "execution_count": null,
   "id": "62f88d10",
   "metadata": {},
   "outputs": [],
   "source": [
    "jjq.data_gatherer.get_tws_ticker(ticker=\"SPX\", security_type=\"IDX\")"
   ]
  },
  {
   "cell_type": "code",
   "execution_count": null,
   "id": "d8f69602",
   "metadata": {},
   "outputs": [],
   "source": [
    "jjq.data_gatherer.get_tws_ticker(ticker='EURUSD', security_type='FX')"
   ]
  },
  {
   "cell_type": "markdown",
   "id": "dd5be8c1",
   "metadata": {},
   "source": [
    "### Fetch data from EODHD API"
   ]
  },
  {
   "cell_type": "code",
   "execution_count": null,
   "id": "c37a0f44",
   "metadata": {},
   "outputs": [],
   "source": [
    "jjq.data_gatherer.get_eodhd_ticker(ticker=\"AAPL\", bar_size=BarSize.FIVE_MINUTES, duration=Duration.ONE_DAY)"
   ]
  },
  {
   "cell_type": "markdown",
   "id": "0fc68aa5",
   "metadata": {},
   "source": [
    "#### Fetch data from Alpha Vantage API"
   ]
  },
  {
   "cell_type": "code",
   "execution_count": null,
   "id": "9ede55ca",
   "metadata": {},
   "outputs": [],
   "source": [
    "r = jjq.data_gatherer.get_alpha_vantage_ticker(ticker=\"AAPL\", bar_size=BarSize.ONE_MINUTE, duration=Duration.ONE_DAY)"
   ]
  },
  {
   "cell_type": "code",
   "execution_count": null,
   "id": "9f0a93ba",
   "metadata": {},
   "outputs": [],
   "source": [
    "r"
   ]
  },
  {
   "cell_type": "code",
   "execution_count": null,
   "id": "3575a643",
   "metadata": {},
   "outputs": [],
   "source": [
    "df"
   ]
  },
  {
   "cell_type": "code",
   "execution_count": null,
   "id": "8c6f66fe",
   "metadata": {},
   "outputs": [],
   "source": [
    "r[\"Time Series (5min)\"]"
   ]
  },
  {
   "cell_type": "markdown",
   "id": "c5c5b6ae",
   "metadata": {},
   "source": [
    "### Available Indicators\n",
    "Jarjarquant provides various technical indicators. Let's explore the RSI (Relative Strength Index) indicator options."
   ]
  },
  {
   "cell_type": "code",
   "execution_count": null,
   "id": "808e5ab3",
   "metadata": {},
   "outputs": [],
   "source": [
    "# List available indicators and show detailed information about RSI\n",
    "import json\n",
    "json.loads(jjq.list_indicators())['RSI']  # Extract RSI information from available indicators"
   ]
  },
  {
   "cell_type": "code",
   "execution_count": null,
   "id": "2c63438d",
   "metadata": {},
   "outputs": [],
   "source": [
    "# Add RSI indicator with a 9-period lookback\n",
    "jjq.add_indicator(Jarjarquant.rsi, 'RSI', period=9)"
   ]
  },
  {
   "cell_type": "code",
   "execution_count": null,
   "id": "79682f60",
   "metadata": {},
   "outputs": [],
   "source": [
    "# Display the updated dataframe with the RSI indicator\n",
    "jjq.df.tail()"
   ]
  },
  {
   "cell_type": "code",
   "execution_count": null,
   "id": "a7142140",
   "metadata": {},
   "outputs": [],
   "source": [
    "jjq.rsi(jjq.df).indicator_evaluation_report()"
   ]
  },
  {
   "cell_type": "code",
   "execution_count": null,
   "id": "899669c6",
   "metadata": {},
   "outputs": [],
   "source": [
    "jjq.feature_evaluator.parallel_indicator_distribution_study(jjq.rsi)"
   ]
  },
  {
   "cell_type": "markdown",
   "id": "8cdd5f7f",
   "metadata": {},
   "source": [
    "### Applying triple barrier labels"
   ]
  },
  {
   "cell_type": "code",
   "execution_count": null,
   "id": "36ad829a",
   "metadata": {},
   "outputs": [],
   "source": [
    "jjq.add_labels(span=2, pt_sl=1, n_days=2)"
   ]
  },
  {
   "cell_type": "code",
   "execution_count": null,
   "id": "bd2346e9",
   "metadata": {},
   "outputs": [],
   "source": [
    "jjq.df['bin'].value_counts()"
   ]
  },
  {
   "cell_type": "code",
   "execution_count": null,
   "id": "76e0e413",
   "metadata": {},
   "outputs": [],
   "source": [
    "jjq.df"
   ]
  }
 ],
 "metadata": {
  "kernelspec": {
   "display_name": ".venv",
   "language": "python",
   "name": "python3"
  },
  "language_info": {
   "codemirror_mode": {
    "name": "ipython",
    "version": 3
   },
   "file_extension": ".py",
   "mimetype": "text/x-python",
   "name": "python",
   "nbconvert_exporter": "python",
   "pygments_lexer": "ipython3",
   "version": "3.12.6"
  }
 },
 "nbformat": 4,
 "nbformat_minor": 5
}
